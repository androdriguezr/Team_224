{
 "cells": [
  {
   "cell_type": "code",
   "execution_count": 6,
   "id": "f7906a41",
   "metadata": {},
   "outputs": [
    {
     "name": "stdout",
     "output_type": "stream",
     "text": [
      "Requirement already satisfied: pandas in c:\\programdata\\anaconda3\\lib\\site-packages (from -r requirements.txt (line 2)) (1.3.4)\n",
      "Requirement already satisfied: matplotlib in c:\\programdata\\anaconda3\\lib\\site-packages (from -r requirements.txt (line 3)) (3.4.3)\n",
      "Requirement already satisfied: seaborn in c:\\programdata\\anaconda3\\lib\\site-packages (from -r requirements.txt (line 5)) (0.11.2)\n",
      "Requirement already satisfied: statsmodels in c:\\programdata\\anaconda3\\lib\\site-packages (from -r requirements.txt (line 6)) (0.13.2)\n",
      "Requirement already satisfied: scipy in c:\\programdata\\anaconda3\\lib\\site-packages (from -r requirements.txt (line 7)) (1.7.1)\n",
      "Collecting datetime\n",
      "  Using cached DateTime-4.4-py2.py3-none-any.whl (51 kB)\n",
      "Requirement already satisfied: scikit-learn in c:\\programdata\\anaconda3\\lib\\site-packages (from -r requirements.txt (line 9)) (0.24.2)\n"
     ]
    },
    {
     "name": "stderr",
     "output_type": "stream",
     "text": [
      "WARNING: Ignoring invalid distribution -tatsmodels (c:\\programdata\\anaconda3\\lib\\site-packages)\n",
      "WARNING: Ignoring invalid distribution -heel (c:\\programdata\\anaconda3\\lib\\site-packages)\n",
      "WARNING: Ignoring invalid distribution -tatsmodels (c:\\programdata\\anaconda3\\lib\\site-packages)\n",
      "WARNING: Ignoring invalid distribution -heel (c:\\programdata\\anaconda3\\lib\\site-packages)\n",
      "ERROR: Could not find a version that satisfies the requirement unicodedata (from versions: none)\n",
      "ERROR: No matching distribution found for unicodedata\n",
      "WARNING: Ignoring invalid distribution -tatsmodels (c:\\programdata\\anaconda3\\lib\\site-packages)\n",
      "WARNING: Ignoring invalid distribution -heel (c:\\programdata\\anaconda3\\lib\\site-packages)\n",
      "WARNING: Ignoring invalid distribution -tatsmodels (c:\\programdata\\anaconda3\\lib\\site-packages)\n",
      "WARNING: Ignoring invalid distribution -heel (c:\\programdata\\anaconda3\\lib\\site-packages)\n",
      "WARNING: Ignoring invalid distribution -tatsmodels (c:\\programdata\\anaconda3\\lib\\site-packages)\n",
      "WARNING: Ignoring invalid distribution -heel (c:\\programdata\\anaconda3\\lib\\site-packages)\n"
     ]
    }
   ],
   "source": [
    "!pip install -r requirements.txt --user\n",
    "import os\n",
    "import pandas as pd\n",
    "import matplotlib.pyplot as plt\n",
    "import statsmodels.api as sm\n",
    "import numpy as np\n",
    "import seaborn as sns\n",
    "from datetime import datetime\n",
    "import math\n",
    "import unicodedata\n",
    "from unicodedata import normalize\n",
    "import re\n",
    "from dateutil.relativedelta import relativedelta\n",
    "import pingouin\n",
    "import sklearn\n",
    "#from sklearn.impute import IterativeImputer\n",
    "from sklearn.impute import KNNImputer\n",
    "import scipy\n",
    "from scipy.stats import chi2_contingency"
   ]
  },
  {
   "cell_type": "markdown",
   "id": "e3d0d73b",
   "metadata": {},
   "source": [
    "## 0.0 Arreglando las rutas ##"
   ]
  },
  {
   "cell_type": "code",
   "execution_count": 7,
   "id": "23ae3053",
   "metadata": {},
   "outputs": [],
   "source": [
    "ruta_madre=\"C:/Users/USUARIO/Documents/GitHub/Team_224/Proyecto\"\n",
    "ruta_insumos=os.path.join(ruta_madre, 'Insumos')\n",
    "ruta_resultados=os.path.join(ruta_madre, 'Resultados')"
   ]
  },
  {
   "cell_type": "markdown",
   "id": "104539c4",
   "metadata": {},
   "source": [
    "## 1.0 IMPORTANDO LA DATA ##\n"
   ]
  },
  {
   "cell_type": "markdown",
   "id": "05b247a8",
   "metadata": {},
   "source": [
    "### 1.1 Importando sueldos (info_nomina)\n"
   ]
  },
  {
   "cell_type": "code",
   "execution_count": 8,
   "id": "840fa67b",
   "metadata": {},
   "outputs": [],
   "source": [
    "os.chdir(os.path.join(ruta_insumos,'Descripcion_empleados'))\n",
    "sendero_sueldos=os.path.join(os.getcwd(),'Sueldos_nomina_consolidados.csv')\n",
    "sueldos=pd.read_csv(sendero_sueldos,sep=\";\")\n",
    "#sueldos['year']=sueldos['year'].astype('float64')\n",
    "sueldos['Codigo']=sueldos['Codigo'].astype('int').astype('str')\n",
    "sueldos.drop_duplicates(['year','Codigo','Nombres'],inplace=True)"
   ]
  },
  {
   "cell_type": "markdown",
   "id": "0587abf1",
   "metadata": {},
   "source": [
    "### 1.3 Importando datos demograficos (perfil_socidemografico)"
   ]
  },
  {
   "cell_type": "code",
   "execution_count": null,
   "id": "5fdaec5b",
   "metadata": {},
   "outputs": [],
   "source": [
    "os.chdir(os.path.join(ruta_insumos,\"Encuesta_sociodem_empleados\"))\n",
    "sendero_feature=os.path.join(os.getcwd(),str(os.listdir()[0]))\n",
    "feature_demo=pd.read_excel(sendero_feature)\n",
    "#feature_demo.dropna(subset=[\"NOMBRE_CLAVE\"],inplace=True)\n",
    "\n",
    "#estadisticos_iniciales=consol_data.describe(include = ['O'])\n"
   ]
  },
  {
   "cell_type": "markdown",
   "id": "ad620161",
   "metadata": {},
   "source": [
    "### 1.4 Importando datos de actividades de solicitudes (detalle_tramites)"
   ]
  },
  {
   "cell_type": "code",
   "execution_count": null,
   "id": "2ec9fcfa",
   "metadata": {},
   "outputs": [],
   "source": [
    "os.chdir(os.path.join(ruta_insumos,'Datos_eventos'))\n",
    "sendero_eventos=os.path.join(os.getcwd(),str(os.listdir()[0]))\n",
    "datos_eventos=pd.read_excel(sendero_eventos)\n",
    "datos_eventos['cedula']=datos_eventos['cedula'].astype('str')\n",
    "#datos_eventos.dropna(subset=[\"NOMBRE_CLAVE\"],inplace=True)\n"
   ]
  },
  {
   "cell_type": "markdown",
   "id": "3b40bf75",
   "metadata": {},
   "source": [
    "## 2.0 LIMPIANDO LA DATA Y PRIOR FEATURE ENGINEERING ##"
   ]
  },
  {
   "cell_type": "code",
   "execution_count": null,
   "id": "082d6971",
   "metadata": {},
   "outputs": [],
   "source": [
    "\n",
    "feature_demo['NUMERO_DE_DOCUMENTO']=feature_demo.NUMERO_DE_DOCUMENTO.astype('int').astype('str').str.strip()\n",
    "sueldos['Codigo']=sueldos['Codigo'].str.strip()\n",
    "consol_data_con_features=datos_eventos.merge(feature_demo,how='left',right_on='NUMERO_DE_DOCUMENTO',left_on='cedula')\n",
    "\n",
    "data_agregada=consol_data_con_features.merge(sueldos[['year','Codigo','Sueldo','Cargo']],how='left',left_on=['year','cedula'],right_on=['year','Codigo'])\n"
   ]
  },
  {
   "cell_type": "markdown",
   "id": "66d4d2a7",
   "metadata": {},
   "source": [
    "### 2.1 creando la edad y años de experiencia"
   ]
  },
  {
   "cell_type": "code",
   "execution_count": null,
   "id": "f8e22df3",
   "metadata": {},
   "outputs": [],
   "source": [
    "data_agregada['fecha_analisis']=[pd.to_datetime(datetime(data_agregada['year'][x],data_agregada['MES'][x],1)) for x in range(len(data_agregada['year']))]\n",
    "\n",
    "years_born=data_agregada['fecha_analisis']-data_agregada['FECHA_DE_NACIMIENTO']\n",
    "\n",
    "data_agregada['edad']=years_born.dt.days//360; del years_born\n",
    "\n",
    "expertise=data_agregada['fecha_analisis']-data_agregada['FECHA_DE_INGRESO']\n",
    "data_agregada['years_antiguedad']=expertise.dt.days/360 ; del expertise\n",
    "\n",
    "data_agregada.drop(columns=['NOMBRES','APELLIDOS','Codigo','NUMERO_DE_DOCUMENTO'],inplace=True)\n"
   ]
  },
  {
   "cell_type": "markdown",
   "id": "719a4e34",
   "metadata": {},
   "source": [
    "### 2.2 Arreglando variable 'MUNICIPIO_DE_RESIDENCIA'"
   ]
  },
  {
   "cell_type": "code",
   "execution_count": null,
   "id": "1f6cbfca",
   "metadata": {},
   "outputs": [],
   "source": [
    "data_agregada['MUNICIPIO_DE_RESIDENCIA']=data_agregada.MUNICIPIO_DE_RESIDENCIA.str.lower().str.strip().str.replace('[ ]+','_')\n",
    "\n",
    "def normalizar(x):\n",
    "    \n",
    "    caracter_norm=re.sub(\n",
    "        r\"([^n\\u0300-\\u036f]|n(?!\\u0303(?![\\u0300-\\u036f])))[\\u0300-\\u036f]+\", r\"\\1\", \n",
    "            normalize( \"NFD\", x\n",
    "            ), 0, re.I\n",
    "        )\n",
    "    return caracter_norm\n",
    "\n",
    "prueba=[]\n",
    "for i in range(len(data_agregada['MUNICIPIO_DE_RESIDENCIA'])):\n",
    "    \n",
    "    try:\n",
    "        prueba.append(normalizar(data_agregada['MUNICIPIO_DE_RESIDENCIA'][i]))\n",
    "    except:\n",
    "        \n",
    "        prueba.append(np.nan)\n",
    "    \n",
    "    \n",
    "data_agregada['MUNICIPIO_DE_RESIDENCIA']=prueba"
   ]
  },
  {
   "cell_type": "markdown",
   "id": "d9f54570",
   "metadata": {},
   "source": [
    "### 2.3 Normalizando y estandarizando solicitudes"
   ]
  },
  {
   "cell_type": "code",
   "execution_count": null,
   "id": "a6bcd86c",
   "metadata": {},
   "outputs": [],
   "source": [
    "## que quede solicitudes, autorizaciones por dia para evitar el sesgo por mayores dias en un mes\n",
    "\n",
    "data_agregada['fecha_fin']=pd.to_datetime([data_agregada['fecha_analisis'][j]+relativedelta(months=1) for j in range(len(data_agregada['fecha_analisis']))])\n",
    "data_agregada['dias_mes']=data_agregada['fecha_fin']-data_agregada['fecha_analisis']\n",
    "data_agregada['dias_mes']=data_agregada['dias_mes'].dt.days\n",
    "data_agregada['solicitudes_per_day']=data_agregada['Solicitud']/data_agregada['dias_mes']\n",
    "data_agregada['autorizaciones_per_day']=data_agregada['Autorizacion']/data_agregada['dias_mes']\n",
    "data_agregada['codigos_per_day']=data_agregada['codigo']/data_agregada['dias_mes']\n",
    "\n"
   ]
  },
  {
   "cell_type": "markdown",
   "id": "dbb5a0e0",
   "metadata": {},
   "source": [
    "### 2.4 Normalizando arreglando variable 'PROFESION'"
   ]
  },
  {
   "cell_type": "code",
   "execution_count": null,
   "id": "415a1250",
   "metadata": {},
   "outputs": [],
   "source": [
    "data_agregada['PROFESION']=data_agregada['PROFESION'].str.lower()\n",
    "\n",
    "prueba=[]\n",
    "for i in range(len(data_agregada['PROFESION'])):\n",
    "    \n",
    "    try:\n",
    "        prueba.append(normalizar(data_agregada['PROFESION'][i]))\n",
    "    except:\n",
    "        \n",
    "        prueba.append(np.nan)\n",
    "   \n",
    "    \n",
    "data_agregada['PROFESION']=prueba\n",
    "\n",
    "profesiones={'administracion de empresas':'admin_empresas',\n",
    "             'administrador en servicios de la salud':'admin_servicios_salud',\n",
    "             'secretaria':'secretariado',\n",
    "             'asistente administrativo':'asistente_administrativo',\n",
    "             'tecnico en auxiliar de enfermeria':'auxiliar_enfermeria',\n",
    "             'auxiliar de enfermeria':'auxiliar_enfermeria',\n",
    "             'tecnico auxiliar de enfermera':'auxiliar_enfermeria',\n",
    "             'tecnico auxiliar de enfemeria':'auxiliar_enfermeria',\n",
    "             'tecnico en agente  call center':'agente_call_center',\n",
    "             'tecnico agente de contact center':'agente_call_center',\n",
    "             'administrador en salud':'admin_servicios_salud',\n",
    "             'administracion en salud':'admin_servicios_salud',\n",
    "             'administrador de empresas':'admin_empresas',\n",
    "             'tecnico en asistencia administrativa':'asistente_administrativo'\n",
    "             }\n",
    "\n",
    "data_agregada['PROFESION']=data_agregada['PROFESION'].replace(profesiones)\n"
   ]
  },
  {
   "cell_type": "markdown",
   "id": "9fa4695d",
   "metadata": {},
   "source": [
    "### 2.4 Normalizando arreglando variable 'PROFESION'"
   ]
  },
  {
   "cell_type": "code",
   "execution_count": null,
   "id": "1949d29c",
   "metadata": {},
   "outputs": [],
   "source": [
    "prueba=[]\n",
    "for i in range(len(data_agregada['NIVEL_DE_ESCOLARIDAD'])):\n",
    "    \n",
    "    try:\n",
    "        prueba.append(normalizar(data_agregada['NIVEL_DE_ESCOLARIDAD'][i]))\n",
    "    except:\n",
    "        \n",
    "        prueba.append(np.nan)\n",
    "   \n",
    "  \n",
    "data_agregada['NIVEL_DE_ESCOLARIDAD']=prueba\n"
   ]
  },
  {
   "cell_type": "markdown",
   "id": "d5f4d79c",
   "metadata": {},
   "source": [
    "## 3.0 Exploratory Data Analysis ##"
   ]
  },
  {
   "cell_type": "markdown",
   "id": "4f206395",
   "metadata": {},
   "source": [
    "Información general de la tasa  consolidada"
   ]
  },
  {
   "cell_type": "code",
   "execution_count": null,
   "id": "983ae953",
   "metadata": {},
   "outputs": [],
   "source": [
    "data_agregada.info() ## la variables provenientes de los sueldos año a año, tienen cerca del 56% de la data dañada por falta de info de sueldos en ciertos años, \n",
    "\n",
    "## describe las variables numericas y categoricas\n",
    "data_agg_describe_numeric=data_agregada.describe()\n",
    "data_agg_describe_object=data_agregada.describe(include=['O'])"
   ]
  }
 ],
 "metadata": {
  "kernelspec": {
   "display_name": "Python 3 (ipykernel)",
   "language": "python",
   "name": "python3"
  },
  "language_info": {
   "codemirror_mode": {
    "name": "ipython",
    "version": 3
   },
   "file_extension": ".py",
   "mimetype": "text/x-python",
   "name": "python",
   "nbconvert_exporter": "python",
   "pygments_lexer": "ipython3",
   "version": "3.9.7"
  }
 },
 "nbformat": 4,
 "nbformat_minor": 5
}
