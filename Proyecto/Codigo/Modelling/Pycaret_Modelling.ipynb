{
 "cells": [
  {
   "cell_type": "markdown",
   "id": "f8cc1ebf",
   "metadata": {},
   "source": [
    "# Descripción:\n",
    "\n",
    "Análisis de datos, ingeniería de variables, y modelamiento a través de Pycaret"
   ]
  },
  {
   "cell_type": "code",
   "execution_count": null,
   "id": "c2252be7",
   "metadata": {},
   "outputs": [],
   "source": [
    "import os\n",
    "os.chdir('C:\\\\Users\\\\USUARIO\\\\Documents\\\\GitHub\\\\Team_224\\\\Proyecto')"
   ]
  },
  {
   "cell_type": "code",
   "execution_count": null,
   "id": "691d484b",
   "metadata": {},
   "outputs": [],
   "source": [
    "u=!pip freeze\n",
    "instalados=str(u)"
   ]
  },
  {
   "cell_type": "code",
   "execution_count": null,
   "id": "c65e4073",
   "metadata": {},
   "outputs": [],
   "source": [
    "to_instalar=['os','pandas','matplotlib','statsmodels','numpy','seaborn','pingouin','pycaret','sklearn','scipy','openpyxl','optuna',\n",
    "            'xgboost','sns']"
   ]
  },
  {
   "cell_type": "code",
   "execution_count": null,
   "id": "838c3f1f",
   "metadata": {},
   "outputs": [],
   "source": [
    "instalados=[x for x in to_instalar if x in  instalados ]\n",
    "if len(set(to_instalar)-set(instalados))>0:\n",
    "    !pip install -r requirements_pycaret.txt "
   ]
  },
  {
   "cell_type": "code",
   "execution_count": null,
   "id": "04645b94",
   "metadata": {},
   "outputs": [],
   "source": [
    "import pycaret"
   ]
  },
  {
   "cell_type": "code",
   "execution_count": null,
   "id": "84478696",
   "metadata": {},
   "outputs": [],
   "source": [
    "import optuna"
   ]
  },
  {
   "cell_type": "code",
   "execution_count": null,
   "id": "95722293",
   "metadata": {},
   "outputs": [],
   "source": [
    "#!pip install -r requirements.txt --user\n",
    "import os\n",
    "import pandas as pd\n",
    "import matplotlib.pyplot as plt\n",
    "import statsmodels.api as sm\n",
    "import numpy as np\n",
    "import seaborn as sns\n",
    "from datetime import datetime\n",
    "import math\n",
    "import unicodedata\n",
    "from unicodedata import normalize\n",
    "import re\n",
    "from dateutil.relativedelta import relativedelta\n",
    "import pingouin\n",
    "import sklearn\n",
    "from sklearn.experimental import enable_iterative_imputer\n",
    "from sklearn.impute import IterativeImputer\n",
    "from sklearn.impute import KNNImputer\n",
    "import scipy\n",
    "from scipy.stats import chi2_contingency\n",
    "from sklearn.model_selection import train_test_split\n",
    "from sklearn.preprocessing import StandardScaler\n",
    "import statsmodels.formula.api as smf\n",
    "#import tune_sklearn\n",
    "#import pycaret"
   ]
  },
  {
   "cell_type": "code",
   "execution_count": null,
   "id": "17a5c8f8",
   "metadata": {},
   "outputs": [],
   "source": [
    "ruta_madre=\"C:/Users/USUARIO/Documents/GitHub/Team_224/Proyecto\"\n",
    "ruta_insumos=os.path.join(ruta_madre, 'Insumos')\n",
    "ruta_resultados=os.path.join(ruta_madre, 'Resultados')"
   ]
  },
  {
   "cell_type": "markdown",
   "id": "71439826",
   "metadata": {},
   "source": [
    "## 1.0 Importando base de datos preprocesada\n",
    "\n",
    "Tomamos la data proveniente del EDA y la usamos para nuestro ejercicio de modelaje"
   ]
  },
  {
   "cell_type": "code",
   "execution_count": null,
   "id": "c299c7fc",
   "metadata": {},
   "outputs": [],
   "source": [
    "os.chdir(os.path.join(ruta_insumos,'preproccess_data'))\n",
    "ruta_data_preproc=os.path.join(os.getcwd(),'data_agregada_preproccess.xlsx')\n",
    "datos_preproc=pd.read_excel(ruta_data_preproc,index_col=0)\n"
   ]
  },
  {
   "cell_type": "markdown",
   "id": "dabffe09",
   "metadata": {},
   "source": [
    "## 2.0 Featuring engineering \n",
    "\n",
    "Se empiza a hacer Feature engineering para evitar resultados raros en el modelaje y mejorar el desempeño del mismo"
   ]
  },
  {
   "cell_type": "markdown",
   "id": "de9df7e0",
   "metadata": {},
   "source": [
    "### 2.1 Deflactando los salarios\n",
    "\n",
    "Debido al gran problema que genera la inflación a lo largo del tiempo, se prefiere usar cifras deflactadas, con lo cual, se utiliza la tabal abstraida del DANE para el IPC anual y se indexa hasta valores correspondientes al 2022. Es decir, la serie se deflacta y se pone todo en las mismas unidades monetarias en el mismo intervalo de tiempo"
   ]
  },
  {
   "cell_type": "code",
   "execution_count": null,
   "id": "b55d31e8",
   "metadata": {},
   "outputs": [],
   "source": [
    "inflacion_variacion=pd.read_excel(os.path.join(os.getcwd(),'inflacion.xlsx'),index_col=0)\n",
    "inflacion_variacion['inflacion']=inflacion_variacion['inflacion']/100+1\n",
    "inflacion_variacion=inflacion_variacion[inflacion_variacion.index>=datos_preproc.year.min()]"
   ]
  },
  {
   "cell_type": "code",
   "execution_count": null,
   "id": "94d19c08",
   "metadata": {},
   "outputs": [],
   "source": [
    "inflacion_variacion=inflacion_variacion.sort_index(ascending=False).cumprod().reset_index()"
   ]
  },
  {
   "cell_type": "code",
   "execution_count": null,
   "id": "90b898a6",
   "metadata": {},
   "outputs": [],
   "source": [
    "datos_preproc=datos_preproc.merge(inflacion_variacion,on=\"year\",how=\"left\")\n",
    "datos_preproc.inflacion.fillna(1,inplace=True)"
   ]
  },
  {
   "cell_type": "code",
   "execution_count": null,
   "id": "0d37221b",
   "metadata": {},
   "outputs": [],
   "source": [
    "datos_preproc['wage_deflacted']=datos_preproc['wage_imputed']*datos_preproc['inflacion']"
   ]
  },
  {
   "cell_type": "markdown",
   "id": "77e2b2aa",
   "metadata": {},
   "source": [
    "### 2.2 Arreglando variables categoricas incompletas\n",
    "\n",
    "Algunas variables sufren de datos faltantes dificiles de imputar y de High Cardinality que puede afectar el balanceo de las variables explicativas. Para ello, se agrupan algunas categorias con el fin de solventar estos datos atípicos"
   ]
  },
  {
   "cell_type": "code",
   "execution_count": null,
   "id": "04175fef",
   "metadata": {},
   "outputs": [],
   "source": [
    "datos_preproc['total_depedants']=datos_preproc['other_on_charge_person']+datos_preproc['children_amount']"
   ]
  },
  {
   "cell_type": "code",
   "execution_count": null,
   "id": "69f798b9",
   "metadata": {},
   "outputs": [],
   "source": [
    "datos_to_model=datos_preproc[['month','gender','is_special_population','any_disability','MUNICIPIO_DE_RESIDENCIA','home_type',\n",
    "                             'education_level','PROFESION','marital_status','total_depedants','ESTRATO_SOCIAL','wage_deflacted',\n",
    "                             'age','years_exp_current_role','request_attend_per_day']].copy()\n",
    "datos_to_model['total_depedants']=datos_to_model['total_depedants'].astype('str')\n",
    "datos_to_model['ESTRATO_SOCIAL']=datos_to_model['ESTRATO_SOCIAL'].astype('str')"
   ]
  },
  {
   "cell_type": "code",
   "execution_count": null,
   "id": "4e1229d9",
   "metadata": {
    "scrolled": true
   },
   "outputs": [],
   "source": [
    "datos_to_model.isna().sum().to_frame()"
   ]
  },
  {
   "cell_type": "markdown",
   "id": "379a2635",
   "metadata": {},
   "source": [
    "Note que hay un total importante de `NAs` en algunos datos. sin embargo, no tenemos ninguna explicación de negocio para reemplazarlos por un numero, por lo que se pondrá como una nueva categoria"
   ]
  },
  {
   "cell_type": "code",
   "execution_count": null,
   "id": "87ff8623",
   "metadata": {},
   "outputs": [],
   "source": [
    "datos_to_model['gender']=datos_to_model['gender'].fillna('OTHER')\n",
    "datos_to_model['is_special_population']=datos_to_model['is_special_population'].fillna('NO APLICA')\n",
    "datos_to_model['any_disability']=datos_to_model['any_disability'].fillna('no_reported')\n",
    "datos_to_model['MUNICIPIO_DE_RESIDENCIA']=datos_to_model['MUNICIPIO_DE_RESIDENCIA'].fillna('NO_REPORTADO')\n",
    "datos_to_model['home_type']=datos_to_model['home_type'].fillna('OTHER')\n",
    "datos_to_model['education_level']=datos_to_model['education_level'].fillna('OTHER')\n",
    "datos_to_model['PROFESION']=datos_to_model['PROFESION'].fillna('OTHER')\n",
    "datos_to_model['marital_status']=datos_to_model['marital_status'].fillna('OTHER')\n",
    "datos_to_model['total_depedants']=datos_to_model['total_depedants'].fillna('OTHER')\n",
    "datos_to_model['ESTRATO_SOCIAL']=datos_to_model['ESTRATO_SOCIAL'].fillna('OTHER')"
   ]
  },
  {
   "cell_type": "markdown",
   "id": "8d9193fa",
   "metadata": {},
   "source": [
    "El siguiente código presenta una transformacion de la variable edad, ya que al verlo respecto a la variable que mide la productividad, tiene una relacion no lineal. "
   ]
  },
  {
   "cell_type": "markdown",
   "id": "3aef6b1c",
   "metadata": {},
   "source": [
    "### 2.3 Agregando polinomios de la edad\n",
    "\n",
    "Como se vió en el EDA, la edad tiene ua relación no lineal ni cuadrática con respecto a la variable `request_attend_per_day`"
   ]
  },
  {
   "cell_type": "code",
   "execution_count": null,
   "id": "5bc1d7d8",
   "metadata": {},
   "outputs": [],
   "source": [
    "datos_to_model['age2']=datos_to_model['age']**2\n",
    "datos_to_model['age3']=datos_to_model['age']**3\n",
    "datos_to_model['age4']=datos_to_model['age']**4\n",
    "datos_to_model['age5']=datos_to_model['age']**5"
   ]
  },
  {
   "cell_type": "markdown",
   "id": "9f0d4619",
   "metadata": {},
   "source": [
    "## 3.0 Modelo de referencia de Regresión lineal (baseline model)"
   ]
  },
  {
   "cell_type": "markdown",
   "id": "5041f7c3",
   "metadata": {},
   "source": [
    "### 3.1 Dividiendo en test y train set"
   ]
  },
  {
   "cell_type": "markdown",
   "id": "e8bc241b",
   "metadata": {},
   "source": [
    "Utilzamos un split de 70/30, sin embargo, solo usaremos este ejercicio con fin de tener una referencia de potenciales variables significativas. siendo el peor modelo y luego ir viendo como se comporta a futuro con modelos más sofisticados"
   ]
  },
  {
   "cell_type": "code",
   "execution_count": null,
   "id": "8b1253db",
   "metadata": {},
   "outputs": [],
   "source": [
    "y=datos_to_model[datos_to_model.columns[datos_to_model.columns=='request_attend_per_day']].copy()\n",
    "X=datos_to_model[datos_to_model.columns[datos_to_model.columns!='request_attend_per_day']].copy()\n",
    "X_train, X_test, y_train, y_test = train_test_split(X, y, test_size=0.3, random_state=1)"
   ]
  },
  {
   "cell_type": "markdown",
   "id": "5596f32b",
   "metadata": {},
   "source": [
    "  ### 3.2 Normalizando y transformando las variables\n",
    "\n",
    "Normalizaremos salario y años de experiencia y todas las variables de edad mediante una estandarización"
   ]
  },
  {
   "cell_type": "code",
   "execution_count": null,
   "id": "f02f3fe5",
   "metadata": {},
   "outputs": [],
   "source": [
    "scaler = StandardScaler()\n",
    "\n",
    "stand_xtrain=scaler.fit_transform(X_train[['wage_deflacted','years_exp_current_role','age','age2','age3','age4','age5']])\n",
    "X_train[['wage_deflacted','years_exp_current_role','age','age2','age3','age4','age5']]=pd.DataFrame(stand_xtrain,columns=['wage_imputed','years_exp_current_role','age','age2','age3','age4','age5'],\n",
    "                                                                                                 index=X_train.index)\n",
    "\n",
    "stand_xtest=scaler.fit_transform(X_test[['wage_deflacted','years_exp_current_role','age','age2','age3','age4','age5']])\n",
    "X_test[['wage_deflacted','years_exp_current_role','age','age2','age3','age4','age5']]=pd.DataFrame(stand_xtest,columns=['wage_imputed','years_exp_current_role','age','age2','age3','age4','age5'],\n",
    "                                                                                                index=X_test.index)\n"
   ]
  },
  {
   "cell_type": "markdown",
   "id": "ffc6a3c2",
   "metadata": {},
   "source": [
    "### 3.3 Aplicando un box cox\n",
    "\n",
    "Se aplica la transformación Box-Cox sobre la variable `request_attend_per_day` una vez ya se crea el train set y el test set"
   ]
  },
  {
   "cell_type": "code",
   "execution_count": null,
   "id": "e49dce4e",
   "metadata": {},
   "outputs": [],
   "source": [
    "from scipy import stats\n",
    "ytrain_transformed, box_cox_lambda_ytrain = stats.boxcox(y_train.request_attend_per_day)\n",
    "ytest_transformed, box_cox_lambda_ytest = stats.boxcox(y_test.request_attend_per_day)"
   ]
  },
  {
   "cell_type": "code",
   "execution_count": null,
   "id": "e47019bb",
   "metadata": {},
   "outputs": [],
   "source": [
    "sns.set_theme()\n",
    "sns.set_style('white')\n",
    "plt.figure(figsize=(10,15))\n",
    "\n",
    "plt.subplot(2,2,1)\n",
    "sns.histplot(ytrain_transformed)\n",
    "plt.title('Response variable train Box-cox transformed ')\n",
    "\n",
    "plt.subplot(2,2,2)\n",
    "sns.histplot(y_train.request_attend_per_day)\n",
    "plt.title('Response variable train Original')\n",
    "\n",
    "plt.subplot(2,2,3)\n",
    "sns.histplot(ytest_transformed)\n",
    "plt.title('Response variable test Box-cox transformed')\n",
    "\n",
    "plt.subplot(2,2,4)\n",
    "sns.histplot(y_test.request_attend_per_day)\n",
    "plt.title('Response variable test Original')"
   ]
  },
  {
   "cell_type": "markdown",
   "id": "07509127",
   "metadata": {},
   "source": [
    "La gráfica anterior muestra que sí es útil hacer la transformacion de **Box-Cox**, ya que le disminuye el sesgo y mejorar la distribución de lso datos. por lo cual, deberíamos aplicarla."
   ]
  },
  {
   "cell_type": "code",
   "execution_count": null,
   "id": "8040e5a9",
   "metadata": {},
   "outputs": [],
   "source": [
    "#X_train_extended = sm.add_constant(X_train)\n",
    "X_train_extended = X_train.copy()\n",
    "X_train_extended['month']=X_train_extended.month.astype('category')\n",
    "X_train_extended['gender']=X_train_extended.gender.astype('category')\n",
    "X_train_extended['is_special_population']=X_train_extended.is_special_population.astype('category')\n",
    "X_train_extended['any_disability']=X_train_extended.any_disability.astype('category')\n",
    "X_train_extended['MUNICIPIO_DE_RESIDENCIA']=X_train_extended.MUNICIPIO_DE_RESIDENCIA.astype('category')\n",
    "X_train_extended['home_type']=X_train_extended.home_type.astype('category')\n",
    "X_train_extended['PROFESION']=X_train_extended.PROFESION.astype('category')\n",
    "X_train_extended['marital_status']=X_train_extended.marital_status.astype('category')\n",
    "X_train_extended['total_depedants']=X_train_extended.total_depedants.astype('category')\n",
    "X_train_extended['ESTRATO_SOCIAL']=X_train_extended.ESTRATO_SOCIAL.astype('category')\n",
    "X_train_extended['education_level']=X_train_extended.education_level.astype('category')"
   ]
  },
  {
   "cell_type": "code",
   "execution_count": null,
   "id": "b6abc49f",
   "metadata": {
    "scrolled": true
   },
   "outputs": [],
   "source": [
    "X_train_extended.info()"
   ]
  },
  {
   "cell_type": "code",
   "execution_count": null,
   "id": "c0c28fe9",
   "metadata": {},
   "outputs": [],
   "source": [
    "data_train=X_train_extended.copy()\n",
    "data_train['request_per_day']=ytrain_transformed"
   ]
  },
  {
   "cell_type": "code",
   "execution_count": null,
   "id": "264fbcbd",
   "metadata": {},
   "outputs": [],
   "source": [
    "data_train.info()"
   ]
  },
  {
   "cell_type": "code",
   "execution_count": null,
   "id": "a11f1c03",
   "metadata": {},
   "outputs": [],
   "source": [
    "## usar esto para crear la fórmula dentro del modelo\n",
    "formula='request_per_day~'\n",
    "for i in range(len(data_train.columns)):\n",
    "    if i ==0 and data_train.columns[i]!='request_per_day':\n",
    "        formula= formula + data_train.columns[i]\n",
    "    elif data_train.columns[i]!='request_per_day' and i !=0:\n",
    "        formula= formula+'+'+ data_train.columns[i]\n",
    "    else:\n",
    "        continue\n",
    "    \n",
    "    "
   ]
  },
  {
   "cell_type": "code",
   "execution_count": null,
   "id": "ab7b9bef",
   "metadata": {},
   "outputs": [],
   "source": [
    "linear_model_baseline=smf.ols(formula=formula,data=data_train).fit() "
   ]
  },
  {
   "cell_type": "code",
   "execution_count": null,
   "id": "d94f697c",
   "metadata": {},
   "outputs": [],
   "source": [
    "linear_model_baseline.summary()"
   ]
  },
  {
   "cell_type": "code",
   "execution_count": null,
   "id": "db066311",
   "metadata": {
    "scrolled": true
   },
   "outputs": [],
   "source": [
    "linear_model_baseline.pvalues.index[np.where(linear_model_baseline.pvalues<0.05/len(linear_model_baseline.pvalues))].to_frame().reset_index(drop=True)"
   ]
  },
  {
   "cell_type": "code",
   "execution_count": null,
   "id": "816d81ce",
   "metadata": {},
   "outputs": [],
   "source": [
    "linear_model_baseline.fvalue ### valor del ANOVA agregado del modelo."
   ]
  },
  {
   "cell_type": "code",
   "execution_count": null,
   "id": "6d52904e",
   "metadata": {},
   "outputs": [],
   "source": [
    "anova_test=sm.stats.anova_lm(linear_model_baseline,typ=1)"
   ]
  },
  {
   "cell_type": "code",
   "execution_count": null,
   "id": "f3df5374",
   "metadata": {},
   "outputs": [],
   "source": [
    "print(anova_test)"
   ]
  },
  {
   "cell_type": "code",
   "execution_count": null,
   "id": "2a66100e",
   "metadata": {},
   "outputs": [],
   "source": [
    "#model_region_no_oldest_box_cox=smf.ols(\n",
    " #   formula='Cost_BC_transformed~Region+group_size+homeowner+car_age+car_value+age_youngest+married_couple+C_previous+duration_previous+A+E+F+G',\n",
    "  #  data=train_expanded).fit()"
   ]
  },
  {
   "cell_type": "markdown",
   "id": "b707b929",
   "metadata": {},
   "source": [
    "En la regresión ejecutada arriba, se puede observar que el R squared se acerca al 58% de explicación, el cual no  no es malo, pero definitivamente no es el mejor; del mismo modo, haciendo pruebas de hipotesis individuales aplicando la corección de **Bonferroni**, se observa que las únicas variables que individualmente se eliminan por baja significancia estadística es la variable categoria `Months` y el `wage_deflacted`. Este último puede estar atado al hecho de que el cargo es estandar y de baja cualificación profesional, haciendo que que la diferencia de salarios a lo largo de los cargos no sea significativa. De igual manera, note que al tener una variable dependiente continua y casi normal (es distribución), es posible ver el análsis ANOVA, la cual muestra que en general, alguna o varias de los betas son diferentes de cero.\n"
   ]
  },
  {
   "cell_type": "markdown",
   "id": "aa085c63",
   "metadata": {},
   "source": [
    "Dado lo anterior, se puede observar que con las variables significativas se puede volver a correr un modelo de la siguiente forma:"
   ]
  },
  {
   "cell_type": "code",
   "execution_count": null,
   "id": "073142da",
   "metadata": {},
   "outputs": [],
   "source": [
    "formula2='request_per_day~gender+is_special_population+any_disability+MUNICIPIO_DE_RESIDENCIA+home_type+education_level+PROFESION+marital_status+total_depedants+ESTRATO_SOCIAL+age+years_exp_current_role+age2+age3+age4+age5'"
   ]
  },
  {
   "cell_type": "code",
   "execution_count": null,
   "id": "7ca0a6fe",
   "metadata": {},
   "outputs": [],
   "source": [
    "data_train.education_level.unique()"
   ]
  },
  {
   "cell_type": "code",
   "execution_count": null,
   "id": "9e992628",
   "metadata": {},
   "outputs": [],
   "source": [
    "linear_model_baseline_mod=smf.ols(formula=formula2,data=data_train).fit() \n",
    "linear_model_baseline_mod.summary()"
   ]
  },
  {
   "cell_type": "markdown",
   "id": "4f5f3a37",
   "metadata": {},
   "source": [
    "Con base en el modelo base, podemos encontrar un perfil potencial base que nos dice que: la mayor productividad puede ser de un perfil que sea hombre, que no tenga ninguna condición especial (o provenga del conflicto armado) que provenga de Cereté (Cordoba), que viva en casa familiar, con un nivel profesional por fuera de los tradicionales y que tenga profesiones relacionadas a secretariado y/o asistete administrativo, donde como maximo tenga 3 dependientes (probablemente 8 dependientes observados en el model muestra una significacia grande por temas a pocos datos), con estrato social 3 y con mayor años de experiencia. La edad es un factor positivamente fundamental para la productividad, pero va disminuyendo marginalmente a medida que aumenta."
   ]
  },
  {
   "cell_type": "markdown",
   "id": "a6144bf3",
   "metadata": {},
   "source": [
    "Debido a que este modelo es de referencia, decidimos no hacer ninguna prueba de supuestos por el momento y ver primero si logra desempeñarse bien frente a otros modelos de ML, más flexible en sus supuestos"
   ]
  },
  {
   "cell_type": "markdown",
   "id": "eeb20578",
   "metadata": {},
   "source": [
    "## 4.0 Encontrando el modelo adecuado\n",
    "\n",
    "Se empiza a hacer las investigaciones avanzadas para determinar cual es el mejor modelo"
   ]
  },
  {
   "cell_type": "markdown",
   "id": "fc3ba3f4",
   "metadata": {},
   "source": [
    "### 4.1 Modelo de regresión\n",
    "\n",
    "Iniciamos con modelos de regresión utilizando la herramienta built-in en python llamada de pycaret"
   ]
  },
  {
   "cell_type": "code",
   "execution_count": null,
   "id": "d603aa7f",
   "metadata": {},
   "outputs": [],
   "source": [
    "datos_to_model.info()"
   ]
  },
  {
   "cell_type": "markdown",
   "id": "152e4df3",
   "metadata": {},
   "source": [
    "### 4.1.1 Setting up the parameters\n",
    "\n",
    "Notará que la siguiente linea permite que pycaret haga gran parte pornosotros, primero le relacionamos las variables que serán categóricas y permitimos que:\n",
    "1) se estandarice (mediante z score) las variables numéricas\n",
    "2) ignorará las variables que posean 0 varianza aproximadamente\n",
    "3) permitirá crear una gama e variables más grande, a través de combinaciones de todas las variables. \n",
    "4) elimina una de las variables, de aquel par que poseauna correlación de 85% o más\n",
    "5) como se vio anteriormente, la transformación de la variable respuesta puede ser útil, por lo que permitimos hacer la transformación de Box-cox\n",
    "6) Se implementa una combinación de Random_forest y regresiones lineales para escoger solo las variables más representativas."
   ]
  },
  {
   "cell_type": "code",
   "execution_count": null,
   "id": "2d312f3e",
   "metadata": {},
   "outputs": [],
   "source": [
    "datos_to_model=datos_to_model.drop(columns='month')\n"
   ]
  },
  {
   "cell_type": "code",
   "execution_count": null,
   "id": "1850d58c",
   "metadata": {},
   "outputs": [],
   "source": [
    "datos_to_model.to_excel(os.path.join(ruta_insumos,'master_data','data_master_ready_to_model.xlsx'))"
   ]
  },
  {
   "cell_type": "code",
   "execution_count": null,
   "id": "6a51213b",
   "metadata": {
    "scrolled": true
   },
   "outputs": [],
   "source": [
    "from pycaret.regression import *\n",
    "set_model = setup(datos_to_model, target = 'request_attend_per_day',categorical_features=['gender','is_special_population','any_disability','MUNICIPIO_DE_RESIDENCIA','home_type','education_level',\n",
    "                                                                                  'marital_status','PROFESION','total_depedants','ESTRATO_SOCIAL'],\n",
    "          normalize=True,normalize_method='zscore',feature_interaction=True,ignore_low_variance=True,transform_target=True,transform_target_method='box-cox',\n",
    "          feature_selection=True,feature_selection_threshold=0.85,remove_multicollinearity=True,multicollinearity_threshold=0.85,session_id=1229,train_size=0.70,fold_strategy='kfold',\n",
    "                 fold=10)"
   ]
  },
  {
   "cell_type": "markdown",
   "id": "e9181bfd",
   "metadata": {},
   "source": [
    "Para este caso, corremos el modelo y seleccionamos el mejor de acuerdo al que tenga el mínimo RMSE. Para ello, se observa que el Extra Tree para regresión es el menor, mejorando en promedio en casi 4 unidades el modelo de regresión lineal y casi aumentando en 20 puntos porcnentales su R2."
   ]
  },
  {
   "cell_type": "code",
   "execution_count": null,
   "id": "d9e8da98",
   "metadata": {},
   "outputs": [],
   "source": [
    "best=compare_models(sort='RMSE')"
   ]
  },
  {
   "cell_type": "code",
   "execution_count": null,
   "id": "e808565e",
   "metadata": {},
   "outputs": [],
   "source": [
    "print(best)"
   ]
  },
  {
   "cell_type": "code",
   "execution_count": null,
   "id": "5d9526cc",
   "metadata": {
    "scrolled": true
   },
   "outputs": [],
   "source": [
    "modelo_seleccionado=create_model(best,criterion='mse') ## se crea el modelo minimizando el MSE sobre el modelo con menor RMSE"
   ]
  },
  {
   "cell_type": "code",
   "execution_count": null,
   "id": "a4d7ad47",
   "metadata": {},
   "outputs": [],
   "source": [
    "RMSE_best_model_notuned=pull()"
   ]
  },
  {
   "cell_type": "code",
   "execution_count": null,
   "id": "7bfdc852",
   "metadata": {},
   "outputs": [],
   "source": [
    "RMSE_notuned=RMSE_best_model_notuned.loc['Mean'].RMSE"
   ]
  },
  {
   "cell_type": "markdown",
   "id": "eb10c93f",
   "metadata": {},
   "source": [
    "A pesar que Extra Tree parece ser el más útil para este caso, tendríamos un problema y sería al establecer todos los hiperparámetros que requiere este método. Para este caso, se utiliza el proceso de 'tuning' que trata de optimizar el RMSE (minimizarlo) de acuerdo al conjunto de hiperparámetros que serán escogidos a través de optimización bayesiana."
   ]
  },
  {
   "cell_type": "markdown",
   "id": "07f39d93",
   "metadata": {},
   "source": [
    "### 4.1.2 Tuneando el modelo\n",
    "\n",
    "\n",
    "Acá se planea optimizar los hiperparámetros del modelo elegido para ver si es posible mejorar su rendimiento\n"
   ]
  },
  {
   "cell_type": "code",
   "execution_count": null,
   "id": "508113db",
   "metadata": {
    "scrolled": false
   },
   "outputs": [],
   "source": [
    "#pip install tune-sklearn ray[tune]* \n",
    "#modelo_tuneado=tune_model(modelo_seleccionado, search_library = 'tune-sklearn', search_algorithm = 'hyperopt',choose_better=True,optimize='RMSE',n_iter=30)\n",
    "\n",
    "modelo_tuneado=tune_model(modelo_seleccionado, search_library = 'optuna',choose_better=True,optimize='RMSE',n_iter=30)"
   ]
  },
  {
   "cell_type": "code",
   "execution_count": null,
   "id": "b9f2253b",
   "metadata": {},
   "outputs": [],
   "source": [
    "modelo_seleccionado_tuneado=create_model(modelo_tuneado,criterion='mse')"
   ]
  },
  {
   "cell_type": "code",
   "execution_count": null,
   "id": "0c188e71",
   "metadata": {},
   "outputs": [],
   "source": [
    "model_tuned_results = pull()"
   ]
  },
  {
   "cell_type": "code",
   "execution_count": null,
   "id": "62ca085f",
   "metadata": {},
   "outputs": [],
   "source": [
    "model_selected_tuned=model_tuned_results.loc['Mean'].RMSE"
   ]
  },
  {
   "cell_type": "markdown",
   "id": "8fd47203",
   "metadata": {},
   "source": [
    "Se saca el modelo tuneado y se compara con el sin tunear, logrando así escoger el que más bajo RMSE tenga"
   ]
  },
  {
   "cell_type": "code",
   "execution_count": null,
   "id": "5c6df688",
   "metadata": {},
   "outputs": [],
   "source": [
    "if model_selected_tuned>RMSE_notuned:\n",
    "    final_model=model_selected_tuned\n",
    "else:\n",
    "    final_model=modelo_seleccionado"
   ]
  },
  {
   "cell_type": "markdown",
   "id": "dadf505a",
   "metadata": {},
   "source": [
    "La siguiente permite crear ficheros y configuraciones para crear las imágenes que se van a correr en el Front-End para evitar gastos innecesarios computacionalmente hablando"
   ]
  },
  {
   "cell_type": "code",
   "execution_count": null,
   "id": "5275c16e",
   "metadata": {},
   "outputs": [],
   "source": [
    "os.chdir('C:\\\\Users\\\\USUARIO\\\\Documents\\\\GitHub\\\\Team_224\\\\Proyecto\\\\Codigo\\\\Modelling')\n",
    "all_data_final_model=finalize_model(final_model)\n",
    "save_model(all_data_final_model, 'C:\\\\Users\\\\USUARIO\\\\Documents\\\\GitHub\\\\Team_224\\\\Proyecto\\\\Models\\\\model_selected_pipeline')\n"
   ]
  },
  {
   "cell_type": "code",
   "execution_count": null,
   "id": "ecc1bd7c",
   "metadata": {},
   "outputs": [],
   "source": [
    "save_config('C:\\\\Users\\\\USUARIO\\\\Documents\\\\GitHub\\\\Team_224\\\\Proyecto\\\\Models\\\\model_selected_config')\n"
   ]
  },
  {
   "cell_type": "code",
   "execution_count": null,
   "id": "c48d22c5",
   "metadata": {},
   "outputs": [],
   "source": [
    "import joblib\n",
    "joblib.dump(final_model,'C:\\\\Users\\\\USUARIO\\\\Documents\\\\GitHub\\\\Team_224\\\\Proyecto\\\\Models\\\\final_model_visualization.data')"
   ]
  },
  {
   "cell_type": "markdown",
   "id": "b2dfe2d1",
   "metadata": {},
   "source": [
    "### 5 Predicción del modelo\n",
    "\n",
    "Una vez se escoge el modelo, lo que se sugiere hacer es utilizar el modelo ganador sobre toda la data, y en el Front-End, se relacione las variables `gender`,`is_special_population`,`any_disability`,`MUNICIPIO_DE_RESIDENCIA`,`home_type`, `education_level`,`PROFESION`,`marital_status`,`total_depedants`,`ESTRATO_SOCIAL`, `age`, `years_exp_current_role`. Donde el sueldo será puesto internamente por la entidad de salud y las varables polinómicas de la edad, serán calculadaas ua vez se relacione la edad del candidato potencial.\t Para las variables `age`, `years_exp_current_role` su tipo de dato son numéricas y `ESTRATO_SOCIAL`, `total_depedants` parecen numericas pero tambien son categoricas ordinales."
   ]
  },
  {
   "cell_type": "markdown",
   "id": "1da7af9c",
   "metadata": {},
   "source": [
    "**Pronostico de prueba**\n",
    "Para este caso. se hará un pronóstico de prueba con el fin de probar el modelo escogido."
   ]
  },
  {
   "cell_type": "code",
   "execution_count": null,
   "id": "11976557",
   "metadata": {
    "scrolled": true
   },
   "outputs": [],
   "source": [
    "#os.chdir('C:\\\\Users\\\\USUARIO\\\\Documents\\\\GitHub\\\\Team_224\\\\Proyecto\\\\Codigo\\\\Modelling')\n",
    "all_data_final_model=load_model('C:\\\\Users\\\\USUARIO\\\\Documents\\\\GitHub\\\\Team_224\\\\Proyecto\\\\Models\\\\model_selected_pipeline')\n"
   ]
  },
  {
   "cell_type": "code",
   "execution_count": null,
   "id": "870b5aaa",
   "metadata": {},
   "outputs": [],
   "source": [
    "##load_model('model_selected_pipeline')## para cargar de vuelta el modelo\n",
    "age=50\n",
    "gender='FEMALE'\n",
    "is_special_population='NO APLICA'\n",
    "municipio_living='monteria'\n",
    "home_type='ARRENDADA'\n",
    "education_level='PROFESIONAL'\n",
    "PROFESION='admin_empresas'\n",
    "marital_status='SINGLE'\n",
    "total_dependants='1.0'\n",
    "ESTRATO_SOCIAL='1.0'\n",
    "years_exp_current_role=10"
   ]
  },
  {
   "cell_type": "code",
   "execution_count": null,
   "id": "676f2259",
   "metadata": {},
   "outputs": [],
   "source": [
    "new_data=datos_to_model.iloc[[0,]].copy()\n",
    "new_data=new_data.drop(columns='request_attend_per_day')\n",
    "new_data['age']=float(age)\n",
    "new_data['age2']=float(age)**2\n",
    "new_data['age3']=float(age)**3\n",
    "new_data['age4']=float(age)**4\n",
    "new_data['age5']=float(age)**5\n",
    "new_data['is_special_population']=is_special_population\n",
    "new_data['municipio_living']=municipio_living\n",
    "new_data['home_type']=home_type\n",
    "new_data['education_level']=education_level\n",
    "new_data['marital_status']=marital_status\n",
    "new_data['total_dependants']=str(total_dependants)\n",
    "new_data['ESTRATO_SOCIAL']=str(ESTRATO_SOCIAL)\n",
    "new_data['years_exp_current_role']=float(years_exp_current_role)\n",
    "new_data['PROFESION']=PROFESION"
   ]
  },
  {
   "cell_type": "code",
   "execution_count": null,
   "id": "43047f33",
   "metadata": {
    "scrolled": true
   },
   "outputs": [],
   "source": [
    "predicted_value=predict_model(all_data_final_model, data = new_data)"
   ]
  },
  {
   "cell_type": "code",
   "execution_count": null,
   "id": "09257b07",
   "metadata": {
    "scrolled": true
   },
   "outputs": [],
   "source": [
    "print(float(predicted_value.Label)) ### este es los requerimientos atendidos por dia que tendrá esa persona"
   ]
  },
  {
   "cell_type": "code",
   "execution_count": null,
   "id": "04086048",
   "metadata": {},
   "outputs": [],
   "source": [
    "unicos={}\n",
    "for i in datos_to_model.select_dtypes('object' or 'category').columns.to_list():\n",
    "    unicos[i]=datos_to_model[i].unique()\n"
   ]
  },
  {
   "cell_type": "markdown",
   "id": "315d5375",
   "metadata": {},
   "source": [
    "Se crea un fichero para guardar las categorias que se usarán en el Front-End"
   ]
  },
  {
   "cell_type": "code",
   "execution_count": null,
   "id": "61cd4894",
   "metadata": {
    "scrolled": false
   },
   "outputs": [],
   "source": [
    "import joblib\n",
    "joblib.dump(unicos,'unicos_categorias.data')"
   ]
  },
  {
   "cell_type": "markdown",
   "id": "54dbf8e2",
   "metadata": {},
   "source": [
    "### 5.1 Determinar si un potencial candidato se debería contratar\n",
    "\n",
    "La idea es transformar la variable respuesta de toda la data mediante el método de **Box-Cox**, para luego tomar el cuantil 75, 50 y 25 y ese valor volver a transformarlo para saber los puntos de corte que la entidad de salud considera para saber si un empleado es o no productivo"
   ]
  },
  {
   "cell_type": "code",
   "execution_count": null,
   "id": "74a005b1",
   "metadata": {},
   "outputs": [],
   "source": [
    "y_transformada, box_cox_lambda_y = stats.boxcox(datos_to_model.request_attend_per_day)"
   ]
  },
  {
   "cell_type": "code",
   "execution_count": null,
   "id": "c40c683f",
   "metadata": {},
   "outputs": [],
   "source": [
    "prob_75=np.quantile(y_transformada,0.75)\n",
    "prob_50=np.quantile(y_transformada,0.5)\n",
    "prob_90=np.quantile(y_transformada,0.90)"
   ]
  },
  {
   "cell_type": "code",
   "execution_count": null,
   "id": "802c8075",
   "metadata": {},
   "outputs": [],
   "source": [
    "valores_quantiles=scipy.special.inv_boxcox(np.asarray([prob_50,prob_75,prob_90]), box_cox_lambda_y)"
   ]
  },
  {
   "cell_type": "code",
   "execution_count": null,
   "id": "2239c4a4",
   "metadata": {},
   "outputs": [],
   "source": [
    "valores_quantiles"
   ]
  },
  {
   "cell_type": "code",
   "execution_count": null,
   "id": "1c73b328",
   "metadata": {},
   "outputs": [],
   "source": [
    "#if predicted_value.Label>valores_quantiles[2] :\n",
    "#    print('Excelente perfil. contrátalo')\n",
    "#elif (predicted_value.Label>valores_quantiles[1] and predicted_value.Label<=valores_quantiles[2]):\n",
    "#    print('Es un perfil sobresaliente. contrátalo')\n",
    "#elif (predicted_value.Label>valores_quantiles[0] and predicted_value.Label<=valores_quantiles[1]):\n",
    "#    print('Es un perfil estandar. podrías con periodo de prueba')\n",
    "#else:\n",
    "#    print('No es tan productivo. ten cuidado')"
   ]
  },
  {
   "cell_type": "code",
   "execution_count": null,
   "id": "91eea517",
   "metadata": {},
   "outputs": [],
   "source": [
    "import session_info"
   ]
  },
  {
   "cell_type": "code",
   "execution_count": null,
   "id": "2b903b9f",
   "metadata": {},
   "outputs": [],
   "source": [
    "session_info.show(html=False)"
   ]
  }
 ],
 "metadata": {
  "kernelspec": {
   "display_name": "Python 3 (ipykernel)",
   "language": "python",
   "name": "python3"
  },
  "language_info": {
   "codemirror_mode": {
    "name": "ipython",
    "version": 3
   },
   "file_extension": ".py",
   "mimetype": "text/x-python",
   "name": "python",
   "nbconvert_exporter": "python",
   "pygments_lexer": "ipython3",
   "version": "3.7.9"
  }
 },
 "nbformat": 4,
 "nbformat_minor": 5
}
