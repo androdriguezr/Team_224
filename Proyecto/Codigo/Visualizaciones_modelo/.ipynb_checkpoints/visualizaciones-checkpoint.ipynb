{
 "cells": [
  {
   "cell_type": "code",
   "execution_count": null,
   "id": "04ec6ec9",
   "metadata": {},
   "outputs": [],
   "source": [
    "import os\n",
    "os.chdir('C:\\\\Users\\\\USUARIO\\\\Documents\\\\GitHub\\\\Team_224\\\\Proyecto')"
   ]
  },
  {
   "cell_type": "code",
   "execution_count": null,
   "id": "6f16e73c",
   "metadata": {},
   "outputs": [],
   "source": [
    "u=!pip freeze\n",
    "instalados=str(u)"
   ]
  },
  {
   "cell_type": "code",
   "execution_count": null,
   "id": "596b4138",
   "metadata": {},
   "outputs": [],
   "source": [
    "to_instalar=['os','pandas','matplotlib','statsmodels','numpy','seaborn','pingouin','pycaret','sklearn','scipy','openpyxl','optuna',\n",
    "            'xgboost','sns']"
   ]
  },
  {
   "cell_type": "code",
   "execution_count": null,
   "id": "9139e09f",
   "metadata": {},
   "outputs": [],
   "source": [
    "instalados=[x for x in to_instalar if x in  instalados ]\n",
    "if len(set(to_instalar)-set(instalados))>0:\n",
    "    !pip install -r requirements_pycaret.txt "
   ]
  },
  {
   "cell_type": "code",
   "execution_count": 2,
   "id": "a16f8462",
   "metadata": {},
   "outputs": [],
   "source": [
    "import pycaret"
   ]
  },
  {
   "cell_type": "code",
   "execution_count": 5,
   "id": "e508a47c",
   "metadata": {},
   "outputs": [],
   "source": [
    "import optuna"
   ]
  },
  {
   "cell_type": "code",
   "execution_count": 4,
   "id": "7cdc6e74",
   "metadata": {},
   "outputs": [
    {
     "name": "stderr",
     "output_type": "stream",
     "text": [
      "c:\\users\\usuario\\documents\\entornos_virtuales\\entornoprueba\\lib\\site-packages\\outdated\\utils.py:18: OutdatedPackageWarning: The package pingouin is out of date. Your version is 0.3.12, the latest is 0.5.2.\n",
      "Set the environment variable OUTDATED_IGNORE=1 to disable these warnings.\n",
      "  **kwargs\n"
     ]
    }
   ],
   "source": [
    "#!pip install -r requirements.txt --user\n",
    "import os\n",
    "import pandas as pd\n",
    "import matplotlib.pyplot as plt\n",
    "import statsmodels.api as sm\n",
    "import numpy as np\n",
    "import seaborn as sns\n",
    "from datetime import datetime\n",
    "import math\n",
    "import unicodedata\n",
    "from unicodedata import normalize\n",
    "import re\n",
    "from dateutil.relativedelta import relativedelta\n",
    "import pingouin\n",
    "import sklearn\n",
    "from sklearn.experimental import enable_iterative_imputer\n",
    "from sklearn.impute import IterativeImputer\n",
    "from sklearn.impute import KNNImputer\n",
    "import scipy\n",
    "from scipy.stats import chi2_contingency\n",
    "from sklearn.model_selection import train_test_split\n",
    "from sklearn.preprocessing import StandardScaler\n",
    "import statsmodels.formula.api as smf\n",
    "#import tune_sklearn\n",
    "#import pycaret"
   ]
  },
  {
   "cell_type": "code",
   "execution_count": 19,
   "id": "825f9950",
   "metadata": {},
   "outputs": [],
   "source": [
    "ruta_madre=\"C:/Users/USUARIO/Documents/GitHub/Team_224/Proyecto\"\n",
    "ruta_insumos=os.path.join(ruta_madre, 'Insumos')\n",
    "ruta_resultados=os.path.join(ruta_madre, 'Resultados')"
   ]
  },
  {
   "cell_type": "code",
   "execution_count": 21,
   "id": "e36bd0fc",
   "metadata": {},
   "outputs": [],
   "source": [
    "#ruta_data_preproc=os.path.join(ruta_insumos,'data_agregada_preproccess.xlsx')\n",
    "datos_master=pd.read_excel(os.path.join(ruta_insumos,'master_data','data_master_ready_to_model.xlsx'),index_col=0)"
   ]
  },
  {
   "cell_type": "code",
   "execution_count": 53,
   "id": "2a5adb82",
   "metadata": {},
   "outputs": [],
   "source": [
    "from pycaret.classification import load_config\n",
    "load_config('C:\\\\Users\\\\USUARIO\\\\Documents\\\\GitHub\\\\Team_224\\\\Proyecto\\\\Models\\\\model_selected_config')"
   ]
  },
  {
   "cell_type": "code",
   "execution_count": 56,
   "id": "f086c9b7",
   "metadata": {},
   "outputs": [
    {
     "name": "stdout",
     "output_type": "stream",
     "text": [
      "Transformation Pipeline and Model Successfully Loaded\n"
     ]
    }
   ],
   "source": [
    "from pycaret.regression import *\n",
    "\n",
    "image_model_predict=load_model('C:\\\\Users\\\\USUARIO\\\\Documents\\\\GitHub\\\\Team_224\\\\Proyecto\\\\Models\\\\model_selected_pipeline')"
   ]
  },
  {
   "cell_type": "markdown",
   "id": "d86fc56d",
   "metadata": {},
   "source": [
    "## se trae el archio guardado en formato .data para visualizar el modelo escogido"
   ]
  },
  {
   "cell_type": "code",
   "execution_count": 60,
   "id": "66ae3c76",
   "metadata": {},
   "outputs": [],
   "source": [
    "import joblib\n",
    "data_visualization=joblib.load('C:\\\\Users\\\\USUARIO\\\\Documents\\\\GitHub\\\\Team_224\\\\Proyecto\\\\Models\\\\final_model_visualization.data')"
   ]
  },
  {
   "cell_type": "code",
   "execution_count": 61,
   "id": "9faa851a",
   "metadata": {},
   "outputs": [
    {
     "data": {
      "application/vnd.jupyter.widget-view+json": {
       "model_id": "4f8735e1eb214b1081692a9822db33aa",
       "version_major": 2,
       "version_minor": 0
      },
      "text/plain": [
       "interactive(children=(ToggleButtons(description='Plot Type:', icons=('',), options=(('Hyperparameters', 'param…"
      ]
     },
     "metadata": {},
     "output_type": "display_data"
    }
   ],
   "source": [
    "evaluate_model(uu)"
   ]
  },
  {
   "cell_type": "code",
   "execution_count": null,
   "id": "cbffc64a",
   "metadata": {},
   "outputs": [],
   "source": []
  }
 ],
 "metadata": {
  "kernelspec": {
   "display_name": "Python 3 (ipykernel)",
   "language": "python",
   "name": "python3"
  },
  "language_info": {
   "codemirror_mode": {
    "name": "ipython",
    "version": 3
   },
   "file_extension": ".py",
   "mimetype": "text/x-python",
   "name": "python",
   "nbconvert_exporter": "python",
   "pygments_lexer": "ipython3",
   "version": "3.7.9"
  }
 },
 "nbformat": 4,
 "nbformat_minor": 5
}
