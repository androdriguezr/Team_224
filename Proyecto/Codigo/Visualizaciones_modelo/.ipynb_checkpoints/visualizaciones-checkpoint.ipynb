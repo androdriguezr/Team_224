{
 "cells": [
  {
   "cell_type": "code",
   "execution_count": null,
   "id": "914a7644",
   "metadata": {},
   "outputs": [],
   "source": [
    "import os\n",
    "os.chdir('C:\\\\Users\\\\USUARIO\\\\Documents\\\\GitHub\\\\Team_224\\\\Proyecto')"
   ]
  },
  {
   "cell_type": "code",
   "execution_count": null,
   "id": "c925eb11",
   "metadata": {},
   "outputs": [],
   "source": [
    "u=!pip freeze\n",
    "instalados=str(u)"
   ]
  },
  {
   "cell_type": "code",
   "execution_count": null,
   "id": "c2da9ab3",
   "metadata": {},
   "outputs": [],
   "source": [
    "to_instalar=['os','pandas','matplotlib','statsmodels','numpy','seaborn','pingouin','pycaret','sklearn','scipy','openpyxl','optuna',\n",
    "            'xgboost','sns']"
   ]
  },
  {
   "cell_type": "code",
   "execution_count": null,
   "id": "b05dda3b",
   "metadata": {},
   "outputs": [],
   "source": [
    "instalados=[x for x in to_instalar if x in  instalados ]\n",
    "if len(set(to_instalar)-set(instalados))>0:\n",
    "    !pip install -r requirements_pycaret.txt "
   ]
  },
  {
   "cell_type": "code",
   "execution_count": 2,
   "id": "388f9d78",
   "metadata": {},
   "outputs": [],
   "source": [
    "import pycaret"
   ]
  },
  {
   "cell_type": "code",
   "execution_count": 5,
   "id": "4dc1b4da",
   "metadata": {},
   "outputs": [],
   "source": [
    "import optuna"
   ]
  },
  {
   "cell_type": "code",
   "execution_count": 4,
   "id": "912cb97a",
   "metadata": {},
   "outputs": [
    {
     "name": "stderr",
     "output_type": "stream",
     "text": [
      "c:\\users\\usuario\\documents\\entornos_virtuales\\entornoprueba\\lib\\site-packages\\outdated\\utils.py:18: OutdatedPackageWarning: The package pingouin is out of date. Your version is 0.3.12, the latest is 0.5.2.\n",
      "Set the environment variable OUTDATED_IGNORE=1 to disable these warnings.\n",
      "  **kwargs\n"
     ]
    }
   ],
   "source": [
    "#!pip install -r requirements.txt --user\n",
    "import os\n",
    "import pandas as pd\n",
    "import matplotlib.pyplot as plt\n",
    "import statsmodels.api as sm\n",
    "import numpy as np\n",
    "import seaborn as sns\n",
    "from datetime import datetime\n",
    "import math\n",
    "import unicodedata\n",
    "from unicodedata import normalize\n",
    "import re\n",
    "from dateutil.relativedelta import relativedelta\n",
    "import pingouin\n",
    "import sklearn\n",
    "from sklearn.experimental import enable_iterative_imputer\n",
    "from sklearn.impute import IterativeImputer\n",
    "from sklearn.impute import KNNImputer\n",
    "import scipy\n",
    "from scipy.stats import chi2_contingency\n",
    "from sklearn.model_selection import train_test_split\n",
    "from sklearn.preprocessing import StandardScaler\n",
    "import statsmodels.formula.api as smf\n",
    "#import tune_sklearn\n",
    "#import pycaret"
   ]
  },
  {
   "cell_type": "code",
   "execution_count": null,
   "id": "b80e0f8c",
   "metadata": {},
   "outputs": [],
   "source": [
    "ruta_madre=\"C:/Users/USUARIO/Documents/GitHub/Team_224/Proyecto\"\n",
    "ruta_insumos=os.path.join(ruta_madre, 'Insumos')\n",
    "ruta_resultados=os.path.join(ruta_madre, 'Resultados')"
   ]
  },
  {
   "cell_type": "code",
   "execution_count": 10,
   "id": "8e2ed953",
   "metadata": {},
   "outputs": [
    {
     "name": "stdout",
     "output_type": "stream",
     "text": [
      "Transformation Pipeline and Model Successfully Loaded\n"
     ]
    }
   ],
   "source": [
    "from pycaret.regression import *\n",
    "all_data_final_model=load_model('C:\\\\Users\\\\USUARIO\\\\Documents\\\\GitHub\\\\Team_224\\\\Proyecto\\\\Models\\\\model_selected_pipeline')"
   ]
  },
  {
   "cell_type": "code",
   "execution_count": 13,
   "id": "1c59de96",
   "metadata": {},
   "outputs": [
    {
     "ename": "NameError",
     "evalue": "name '_ml_usecase' is not defined",
     "output_type": "error",
     "traceback": [
      "\u001b[1;31m---------------------------------------------------------------------------\u001b[0m",
      "\u001b[1;31mNameError\u001b[0m                                 Traceback (most recent call last)",
      "\u001b[1;32m~\\AppData\\Local\\Temp\\ipykernel_5628\\3615668614.py\u001b[0m in \u001b[0;36m<module>\u001b[1;34m\u001b[0m\n\u001b[1;32m----> 1\u001b[1;33m \u001b[0mevaluate_model\u001b[0m\u001b[1;33m(\u001b[0m\u001b[0mall_data_final_model\u001b[0m\u001b[1;33m)\u001b[0m\u001b[1;33m\u001b[0m\u001b[1;33m\u001b[0m\u001b[0m\n\u001b[0m",
      "\u001b[1;32mc:\\users\\usuario\\documents\\entornos_virtuales\\entornoprueba\\lib\\site-packages\\pycaret\\regression.py\u001b[0m in \u001b[0;36mevaluate_model\u001b[1;34m(estimator, fold, fit_kwargs, plot_kwargs, groups, use_train_data)\u001b[0m\n\u001b[0;32m   1685\u001b[0m         \u001b[0mplot_kwargs\u001b[0m\u001b[1;33m=\u001b[0m\u001b[0mplot_kwargs\u001b[0m\u001b[1;33m,\u001b[0m\u001b[1;33m\u001b[0m\u001b[1;33m\u001b[0m\u001b[0m\n\u001b[0;32m   1686\u001b[0m         \u001b[0mgroups\u001b[0m\u001b[1;33m=\u001b[0m\u001b[0mgroups\u001b[0m\u001b[1;33m,\u001b[0m\u001b[1;33m\u001b[0m\u001b[1;33m\u001b[0m\u001b[0m\n\u001b[1;32m-> 1687\u001b[1;33m         \u001b[0muse_train_data\u001b[0m\u001b[1;33m=\u001b[0m\u001b[0muse_train_data\u001b[0m\u001b[1;33m,\u001b[0m\u001b[1;33m\u001b[0m\u001b[1;33m\u001b[0m\u001b[0m\n\u001b[0m\u001b[0;32m   1688\u001b[0m     )\n\u001b[0;32m   1689\u001b[0m \u001b[1;33m\u001b[0m\u001b[0m\n",
      "\u001b[1;32mc:\\users\\usuario\\documents\\entornos_virtuales\\entornoprueba\\lib\\site-packages\\pycaret\\internal\\tabular.py\u001b[0m in \u001b[0;36mevaluate_model\u001b[1;34m(estimator, fold, fit_kwargs, plot_kwargs, feature_name, groups, use_train_data)\u001b[0m\n\u001b[0;32m   7804\u001b[0m     )\n\u001b[0;32m   7805\u001b[0m \u001b[1;33m\u001b[0m\u001b[0m\n\u001b[1;32m-> 7806\u001b[1;33m     \u001b[0mfold\u001b[0m \u001b[1;33m=\u001b[0m \u001b[0m_get_cv_splitter\u001b[0m\u001b[1;33m(\u001b[0m\u001b[0mfold\u001b[0m\u001b[1;33m)\u001b[0m\u001b[1;33m\u001b[0m\u001b[1;33m\u001b[0m\u001b[0m\n\u001b[0m\u001b[0;32m   7807\u001b[0m \u001b[1;33m\u001b[0m\u001b[0m\n\u001b[0;32m   7808\u001b[0m     \u001b[0mgroups\u001b[0m \u001b[1;33m=\u001b[0m \u001b[0m_get_groups\u001b[0m\u001b[1;33m(\u001b[0m\u001b[0mgroups\u001b[0m\u001b[1;33m)\u001b[0m\u001b[1;33m\u001b[0m\u001b[1;33m\u001b[0m\u001b[0m\n",
      "\u001b[1;32mc:\\users\\usuario\\documents\\entornos_virtuales\\entornoprueba\\lib\\site-packages\\pycaret\\internal\\tabular.py\u001b[0m in \u001b[0;36m_get_cv_splitter\u001b[1;34m(fold, ml_usecase)\u001b[0m\n\u001b[0;32m  11304\u001b[0m \u001b[1;32mdef\u001b[0m \u001b[0m_get_cv_splitter\u001b[0m\u001b[1;33m(\u001b[0m\u001b[0mfold\u001b[0m\u001b[1;33m,\u001b[0m \u001b[0mml_usecase\u001b[0m\u001b[1;33m:\u001b[0m \u001b[0mOptional\u001b[0m\u001b[1;33m[\u001b[0m\u001b[0mMLUsecase\u001b[0m\u001b[1;33m]\u001b[0m \u001b[1;33m=\u001b[0m \u001b[1;32mNone\u001b[0m\u001b[1;33m)\u001b[0m\u001b[1;33m:\u001b[0m\u001b[1;33m\u001b[0m\u001b[1;33m\u001b[0m\u001b[0m\n\u001b[0;32m  11305\u001b[0m     \u001b[1;32mif\u001b[0m \u001b[1;32mnot\u001b[0m \u001b[0mml_usecase\u001b[0m\u001b[1;33m:\u001b[0m\u001b[1;33m\u001b[0m\u001b[1;33m\u001b[0m\u001b[0m\n\u001b[1;32m> 11306\u001b[1;33m         \u001b[0mml_usecase\u001b[0m \u001b[1;33m=\u001b[0m \u001b[0m_ml_usecase\u001b[0m\u001b[1;33m\u001b[0m\u001b[1;33m\u001b[0m\u001b[0m\n\u001b[0m\u001b[0;32m  11307\u001b[0m \u001b[1;33m\u001b[0m\u001b[0m\n\u001b[0;32m  11308\u001b[0m     \u001b[1;32mimport\u001b[0m \u001b[0mpycaret\u001b[0m\u001b[1;33m.\u001b[0m\u001b[0minternal\u001b[0m\u001b[1;33m.\u001b[0m\u001b[0mutils\u001b[0m\u001b[1;33m\u001b[0m\u001b[1;33m\u001b[0m\u001b[0m\n",
      "\u001b[1;31mNameError\u001b[0m: name '_ml_usecase' is not defined"
     ]
    }
   ],
   "source": [
    "evaluate_model(all_data_final_model)"
   ]
  },
  {
   "cell_type": "code",
   "execution_count": null,
   "id": "c322f96c",
   "metadata": {},
   "outputs": [],
   "source": []
  }
 ],
 "metadata": {
  "kernelspec": {
   "display_name": "Python 3 (ipykernel)",
   "language": "python",
   "name": "python3"
  },
  "language_info": {
   "codemirror_mode": {
    "name": "ipython",
    "version": 3
   },
   "file_extension": ".py",
   "mimetype": "text/x-python",
   "name": "python",
   "nbconvert_exporter": "python",
   "pygments_lexer": "ipython3",
   "version": "3.7.9"
  }
 },
 "nbformat": 4,
 "nbformat_minor": 5
}
